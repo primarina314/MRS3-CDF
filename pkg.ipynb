{
 "cells": [
  {
   "cell_type": "code",
   "execution_count": 1,
   "id": "8e40b6f8",
   "metadata": {},
   "outputs": [
    {
     "name": "stdout",
     "output_type": "stream",
     "text": [
      "True\n",
      "NVIDIA GeForce RTX 3060\n",
      "1\n",
      "91000\n"
     ]
    }
   ],
   "source": [
    "# from desktop w/ gpu\n",
    "import torch\n",
    "import numpy as np\n",
    "import cv2\n",
    "import time\n",
    "import os\n",
    "from enum import Enum\n",
    "from multipledispatch import dispatch\n",
    "import mrs3 as mr\n",
    "import interpolation as inter\n",
    "\n",
    "%load_ext autoreload\n",
    "%autoreload 2\n",
    "\n",
    "lenna_path = 'Lenna_(test_image).png'\n",
    "\n",
    "print(torch.cuda.is_available())\n",
    "print(torch.cuda.get_device_name(device = 0))\n",
    "print(torch.cuda.device_count())\n",
    "print(torch.backends.cudnn.version())\n",
    "\n"
   ]
  },
  {
   "cell_type": "markdown",
   "id": "ce3c4ba5",
   "metadata": {},
   "source": [
    "여러 파일을 하나의 파일(pkg)로 묶어서 저장, 읽기 및 복원"
   ]
  },
  {
   "cell_type": "code",
   "execution_count": 3,
   "id": "be4f32ab",
   "metadata": {},
   "outputs": [
    {
     "name": "stdout",
     "output_type": "stream",
     "text": [
      "original file: 325420\n",
      "downscaled filesize: 31065\n",
      "roi filesize: 34880\n",
      "roi bin filesize: 764\n",
      "config filesize: 149\n",
      "compression ratio: 0.20545141663081556\n"
     ]
    }
   ],
   "source": [
    "mr.compress_img_mult_tgs('Downloads/500x500.png', 'testf', scaler=4, roi_mode=mr.ROI_POLYGON)"
   ]
  },
  {
   "cell_type": "code",
   "execution_count": 4,
   "id": "bb5eaf65",
   "metadata": {},
   "outputs": [
    {
     "name": "stdout",
     "output_type": "stream",
     "text": [
      "1.078644037246704 sec taken\n"
     ]
    }
   ],
   "source": [
    "mr.restore_img_mult_tgs('testf', mr.EDSR, 'testf')"
   ]
  },
  {
   "cell_type": "markdown",
   "id": "782efd1a",
   "metadata": {},
   "source": [
    "compress 이후에 packaging 처리"
   ]
  },
  {
   "cell_type": "code",
   "execution_count": 5,
   "id": "94d8995c",
   "metadata": {},
   "outputs": [],
   "source": [
    "import os\n",
    "import struct\n",
    "\n",
    "def pack_files(output_file: str, input_files: list):\n",
    "    \"\"\"\n",
    "    여러 파일을 하나의 사용자 정의 패키지(.pkg)로 묶습니다.\n",
    "    \n",
    "    :param output_file: 출력 파일 경로 (예: 'output.pkg')\n",
    "    :param input_files: 패키징할 파일 목록 (예: ['image.png', 'config.ini'])\n",
    "    \"\"\"\n",
    "    with open(output_file, 'wb') as f_out:\n",
    "        # 파일 개수 기록 (4바이트)\n",
    "        f_out.write(struct.pack('I', len(input_files)))\n",
    "        \n",
    "        for file_path in input_files:\n",
    "            if not os.path.exists(file_path):\n",
    "                raise FileNotFoundError(f\"파일을 찾을 수 없음: {file_path}\")\n",
    "            \n",
    "            file_name = os.path.basename(file_path)\n",
    "            with open(file_path, 'rb') as f_in:\n",
    "                file_data = f_in.read()\n",
    "            \n",
    "            # 파일명 길이 및 데이터 기록\n",
    "            encoded_name = file_name.encode('utf-8')\n",
    "            f_out.write(struct.pack('I', len(encoded_name)))  # 파일명 길이 (4바이트)\n",
    "            f_out.write(encoded_name)                         # 파일명 데이터\n",
    "            \n",
    "            # 파일 내용 기록\n",
    "            f_out.write(struct.pack('I', len(file_data)))     # 파일 크기 (4바이트)\n",
    "            f_out.write(file_data)                            # 파일 내용\n",
    "\n",
    "def unpack_files(input_file: str, output_dir: str):\n",
    "    \"\"\"\n",
    "    패키지 파일(.pkg)에서 원본 파일을 추출합니다.\n",
    "    \n",
    "    :param input_file: 입력 파일 경로 (예: 'output.pkg')\n",
    "    :param output_dir: 출력 디렉토리 경로 (예: 'unpacked')\n",
    "    \"\"\"\n",
    "    os.makedirs(output_dir, exist_ok=True)\n",
    "    \n",
    "    with open(input_file, 'rb') as f_in:\n",
    "        # 파일 개수 읽기\n",
    "        num_files = struct.unpack('I', f_in.read(4))[0]\n",
    "        \n",
    "        for _ in range(num_files):\n",
    "            # 파일명 추출\n",
    "            name_len = struct.unpack('I', f_in.read(4))[0]\n",
    "            file_name = f_in.read(name_len).decode('utf-8')\n",
    "            \n",
    "            # 파일 내용 추출\n",
    "            data_len = struct.unpack('I', f_in.read(4))[0]\n",
    "            file_data = f_in.read(data_len)\n",
    "            \n",
    "            # 파일 저장\n",
    "            output_path = os.path.join(output_dir, file_name)\n",
    "            with open(output_path, 'wb') as f_out:\n",
    "                f_out.write(file_data)\n",
    "\n",
    "# 사용 예시 ---------------------------------------------------\n",
    "\n",
    "# 파일 패키징\n",
    "pack_files(\n",
    "    output_file=\"combined.pkg\",\n",
    "    input_files=[\"/home/primarina314/Projects/MRS3/testf/bin0.png\", \"/home/primarina314/Projects/MRS3/testf/bin1.png\", \"/home/primarina314/Projects/MRS3/testf/roi0.png\", \"/home/primarina314/Projects/MRS3/testf/roi1.png\", \"/home/primarina314/Projects/MRS3/testf/downscaled.png\", \"/home/primarina314/Projects/MRS3/testf/config.ini\"]\n",
    ")\n",
    "\n",
    "# 파일 복원\n",
    "unpack_files(\n",
    "    input_file=\"combined.pkg\",\n",
    "    output_dir=\"restored_files\"\n",
    ")\n"
   ]
  },
  {
   "cell_type": "code",
   "execution_count": null,
   "id": "c6ad7415",
   "metadata": {},
   "outputs": [],
   "source": []
  }
 ],
 "metadata": {
  "kernelspec": {
   "display_name": "mrs3tmp",
   "language": "python",
   "name": "python3"
  },
  "language_info": {
   "codemirror_mode": {
    "name": "ipython",
    "version": 3
   },
   "file_extension": ".py",
   "mimetype": "text/x-python",
   "name": "python",
   "nbconvert_exporter": "python",
   "pygments_lexer": "ipython3",
   "version": "3.11.11"
  }
 },
 "nbformat": 4,
 "nbformat_minor": 5
}
