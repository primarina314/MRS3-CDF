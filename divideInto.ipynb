{
 "cells": [
  {
   "cell_type": "markdown",
   "id": "59e7a819",
   "metadata": {},
   "source": [
    "# 메모리 한계 넘어가는 큰 이미지 분할 및 결합 구현"
   ]
  },
  {
   "cell_type": "code",
   "execution_count": 1,
   "id": "aaa92d0e",
   "metadata": {},
   "outputs": [],
   "source": [
    "import numpy as np\n",
    "import cv2\n",
    "import time\n",
    "import os\n",
    "from enum import Enum\n",
    "from multipledispatch import dispatch\n",
    "import mrs3 as mr\n",
    "import interpolation as inter\n",
    "\n",
    "%load_ext autoreload\n",
    "%autoreload 2\n",
    "\n",
    "lenna_path = 'Lenna_(test_image).png'\n",
    "\n",
    "def imshow(img, winname='test'):\n",
    "    cv2.imshow(winname, img)\n",
    "    cv2.waitKey(0)\n",
    "    cv2.destroyAllWindows()\n"
   ]
  },
  {
   "cell_type": "code",
   "execution_count": 10,
   "id": "d7d85c29",
   "metadata": {},
   "outputs": [],
   "source": [
    "img = cv2.imread('sample-images-png/1920x1080.png')\n",
    "h, w = img.shape[:2]"
   ]
  },
  {
   "cell_type": "code",
   "execution_count": null,
   "id": "e246f915",
   "metadata": {},
   "outputs": [],
   "source": [
    "DIV_UNIT = 530 # 12g + 16g 기준\n",
    "OVERLAP_LENGTH = 30 # at least"
   ]
  },
  {
   "cell_type": "code",
   "execution_count": null,
   "id": "5035cb91",
   "metadata": {},
   "outputs": [],
   "source": [
    "\"\"\"\n",
    "at most DIV_UNIT 으로 끊어서\n",
    "\n",
    "1. 가능한 큰 조각씩 끊고 많이 겹쳐진 후에 블렌딩을 하는게 좋을지\n",
    "2. 최소한의 크기로 끊고 겹치는 부분이 작은게 좋을지\n",
    "\"\"\"\n",
    "\n"
   ]
  },
  {
   "cell_type": "markdown",
   "id": "c642477e",
   "metadata": {},
   "source": [
    "1. 가능한 큰 조각씩 끊고 많이 겹쳐진 후에 블렌딩을 하는게 좋을지"
   ]
  },
  {
   "cell_type": "code",
   "execution_count": null,
   "id": "f6d947d6",
   "metadata": {},
   "outputs": [],
   "source": [
    "\"\"\"\n",
    "\n",
    "DIV + (DIV-OVER)*(n-1) = n * (DIV-OVER) + OVER\n",
    "\n",
    "DIV * n - OVER * (n-1)\n",
    "\n",
    "(DIV - OVER) * 2 + (DIV - 2*OVER) * (n-2) + (n-1) * OVER = n DIV - (n-1) OVER\n",
    "\n",
    "DIV = DIV_UNIT\n",
    "OVER >= OVERLAP_LENGTH\n",
    "\n",
    "argmax{n}_{width = n * (div-over) + over, over>=len}\n",
    "\n",
    "\"\"\""
   ]
  },
  {
   "cell_type": "code",
   "execution_count": null,
   "id": "1bec5f67",
   "metadata": {},
   "outputs": [],
   "source": [
    "cnt = 0"
   ]
  },
  {
   "cell_type": "markdown",
   "id": "42637311",
   "metadata": {},
   "source": [
    "2. 최소한의 크기로 끊고 겹치는 부분이 작은게 좋을지"
   ]
  },
  {
   "cell_type": "code",
   "execution_count": null,
   "id": "41667d75",
   "metadata": {},
   "outputs": [
    {
     "name": "stdout",
     "output_type": "stream",
     "text": [
      "upscaled without fraction\n",
      "8.416339635848999 sec taken\n"
     ]
    },
    {
     "data": {
      "text/plain": [
       "True"
      ]
     },
     "execution_count": 7,
     "metadata": {},
     "output_type": "execute_result"
    }
   ],
   "source": [
    "PIXELS_LIMIT = 300000\n",
    "OVERLAP_HALF_LENGTH = 50\n",
    "\n",
    "upscaled_fraction_num = 0\n",
    "def upscale_img(img, scaler):\n",
    "    \"\"\"\n",
    "    img: 이미지 ndarray\n",
    "    scaler: 배율(2 or 3 or 4)\n",
    "    \"\"\"\n",
    "    if scaler not in [2, 3, 4]:\n",
    "        print(f\"Invalid scaler value: {scaler}. Must be 2, 3 or 4.\")\n",
    "        return None\n",
    "    if not cv2.cuda.getCudaEnabledDeviceCount():\n",
    "        print(\"No CUDA-enabled GPU found.\")\n",
    "        return None\n",
    "\n",
    "    sr = cv2.dnn_superres.DnnSuperResImpl_create()\n",
    "    try:\n",
    "        sr.readModel(f'models/EDSR_x{scaler}.pb')\n",
    "    except Exception as e:\n",
    "        print(f\"Error reading model: {e}\")\n",
    "        return None\n",
    "\n",
    "    # gpu acceleration\n",
    "    sr.setPreferableBackend(cv2.dnn.DNN_BACKEND_CUDA)\n",
    "    sr.setPreferableTarget(cv2.dnn.DNN_TARGET_CUDA)\n",
    "\n",
    "    sr.setModel('edsr', scaler)\n",
    "\n",
    "    try:\n",
    "        result = sr.upsample(img)\n",
    "    except Exception as e:\n",
    "        print(f\"Error during upscaling: {e}\")\n",
    "        return None\n",
    "    global upscaled_fraction_num\n",
    "    upscaled_fraction_num += 1\n",
    "    return result\n",
    "\n",
    "def upscale_large_img_helper(img, scaler):\n",
    "    if scaler not in [2, 3, 4]:\n",
    "        print(f\"Invalid scaler value: {scaler}. Must be 2, 3 or 4.\")\n",
    "        return None\n",
    "    if not cv2.cuda.getCudaEnabledDeviceCount():\n",
    "        print(\"No CUDA-enabled GPU found.\")\n",
    "        return None\n",
    "    \n",
    "    # TODO: 이미지 분할해서 각각 edsr 적용 후 합치기\n",
    "    h, w, c = img.shape\n",
    "    if h * w < PIXELS_LIMIT:\n",
    "        return upscale_img(img, scaler)\n",
    "    \n",
    "    if w < h:\n",
    "        upper = np.zeros((scaler*h, scaler*w, c))\n",
    "        below = np.zeros((scaler*h, scaler*w, c))\n",
    "\n",
    "        upper[0:scaler*(h//2 + OVERLAP_HALF_LENGTH),:] = upscale_large_img_helper(img[0:(h//2 + OVERLAP_HALF_LENGTH),:], scaler=scaler)\n",
    "        below[scaler*(h//2 - OVERLAP_HALF_LENGTH):scaler*h,:] = upscale_large_img_helper(img[(h//2 - OVERLAP_HALF_LENGTH):h,:], scaler=scaler)\n",
    "\n",
    "        # h//2 - OVERLAP_HALF_LENGTH ~ h//2 + OVERLAP_HALF_LENGTH\n",
    "        alpha = np.ones((scaler*h, scaler*w)) * np.arange(scaler * h).reshape(-1, 1)\n",
    "        start = scaler * (h//2 - OVERLAP_HALF_LENGTH)\n",
    "        end = scaler * (h//2 + OVERLAP_HALF_LENGTH)\n",
    "        alpha = np.clip((alpha - start) / (end - start), 0, 1)\n",
    "\n",
    "        alpha_3ch = np.repeat(alpha[:, :, np.newaxis], 3, axis=2)\n",
    "\n",
    "        upper_f = upper.astype(np.float32)\n",
    "        below_f = below.astype(np.float32)\n",
    "\n",
    "        blended = upper_f * (1-alpha_3ch) + below_f * alpha_3ch\n",
    "        blended = np.clip(blended, 0, 255).astype(np.uint8)\n",
    "        return blended\n",
    "    \n",
    "    else:\n",
    "        left = np.zeros((scaler*h, scaler*w, c))\n",
    "        right = np.zeros((scaler*h, scaler*w, c))\n",
    "        \n",
    "        left[:,0:scaler*(w//2 + OVERLAP_HALF_LENGTH)] = upscale_large_img_helper(img[:,0:(w//2 + OVERLAP_HALF_LENGTH)], scaler=scaler)\n",
    "        right[:,scaler*(w//2 - OVERLAP_HALF_LENGTH):scaler*w] = upscale_large_img_helper(img[:,(w//2 - OVERLAP_HALF_LENGTH):w], scaler=scaler)\n",
    "\n",
    "        # w//2 - OVERLAP_HALF_LENGTH ~ w//2 + OVERLAP_HALF_LENGTH\n",
    "        alpha = np.ones((scaler*h, scaler*w)) * np.arange(scaler * w).reshape(1, -1)\n",
    "        start = scaler * (w//2 - OVERLAP_HALF_LENGTH)\n",
    "        end = scaler * (w//2 + OVERLAP_HALF_LENGTH)\n",
    "        alpha = np.clip((alpha - start) / (end - start), 0, 1)\n",
    "        \n",
    "        alpha_3ch = np.repeat(alpha[:, :, np.newaxis], 3, axis=2)\n",
    "        \n",
    "        left_f = left.astype(np.float32)\n",
    "        right_f = right.astype(np.float32)\n",
    "\n",
    "        blended = left_f * (1-alpha_3ch) + right_f * alpha_3ch\n",
    "        blended = np.clip(blended, 0, 255).astype(np.uint8)\n",
    "        return blended\n",
    "\n",
    "def upscale_large_img(img, scaler):\n",
    "    global upscaled_fraction_num\n",
    "    upscaled_fraction_num = 0\n",
    "\n",
    "    result = upscale_large_img_helper(img, scaler=scaler)\n",
    "    print(f'upscaled after being divided into {upscaled_fraction_num} fragments.')\n",
    "    upscaled_fraction_num = 0\n",
    "    return result\n",
    "\n",
    "img = cv2.imread(lenna_path)\n",
    "img2 = mr.upscale_large_img(img, scaler=4)"
   ]
  },
  {
   "cell_type": "code",
   "execution_count": 17,
   "id": "acb9b350",
   "metadata": {},
   "outputs": [
    {
     "name": "stdout",
     "output_type": "stream",
     "text": [
      "5.010789394378662 sec taken\n"
     ]
    }
   ],
   "source": [
    "\n",
    "a = mr._upscale_by_edsr(lenna_path, 4)\n"
   ]
  },
  {
   "cell_type": "code",
   "execution_count": 2,
   "id": "c787dcb8",
   "metadata": {},
   "outputs": [
    {
     "name": "stdout",
     "output_type": "stream",
     "text": [
      "upscaled without fraction\n",
      "7.298156976699829 sec taken qqqqq\n",
      "upscaled after being divided into 32 fragments.\n",
      "67.01304268836975 sec taken qqqqq\n"
     ]
    }
   ],
   "source": [
    "lenna_img = cv2.imread(lenna_path)\n",
    "\n",
    "b = mr.upscale_large_img(lenna_img, 4)\n",
    "c = mr.upscale_large_img(b, 4)\n"
   ]
  },
  {
   "cell_type": "code",
   "execution_count": 3,
   "id": "9df8563d",
   "metadata": {},
   "outputs": [
    {
     "name": "stderr",
     "output_type": "stream",
     "text": [
      "Dropped Escape call with ulEscapeCode : 0x03007703\n"
     ]
    }
   ],
   "source": [
    "imshow(lenna_img)\n",
    "imshow(b)\n",
    "imshow(c)"
   ]
  },
  {
   "cell_type": "code",
   "execution_count": 9,
   "id": "536bc2cd",
   "metadata": {},
   "outputs": [],
   "source": [
    "for _ in range(20):\n",
    "    imshow(c)"
   ]
  },
  {
   "cell_type": "code",
   "execution_count": 30,
   "id": "8f90cf24",
   "metadata": {},
   "outputs": [
    {
     "name": "stdout",
     "output_type": "stream",
     "text": [
      "[0 1 2 3 4]\n"
     ]
    }
   ],
   "source": [
    "print(np.arange(5))"
   ]
  },
  {
   "cell_type": "code",
   "execution_count": 47,
   "id": "7f5702e1",
   "metadata": {},
   "outputs": [
    {
     "name": "stdout",
     "output_type": "stream",
     "text": [
      "(512, 512, 3)\n",
      "(512, 512, 3)\n"
     ]
    }
   ],
   "source": [
    "img = cv2.imread(lenna_path)\n",
    "print(img.shape)\n",
    "ztest = np.zeros(img.shape)\n",
    "print(ztest.shape)"
   ]
  },
  {
   "cell_type": "code",
   "execution_count": 2,
   "id": "8250c5ca",
   "metadata": {},
   "outputs": [
    {
     "data": {
      "text/plain": [
       "16"
      ]
     },
     "execution_count": 2,
     "metadata": {},
     "output_type": "execute_result"
    }
   ],
   "source": [
    "cv2.getNumThreads()"
   ]
  },
  {
   "cell_type": "code",
   "execution_count": 3,
   "id": "703441d1",
   "metadata": {},
   "outputs": [
    {
     "data": {
      "text/plain": [
       "16"
      ]
     },
     "execution_count": 3,
     "metadata": {},
     "output_type": "execute_result"
    }
   ],
   "source": [
    "os.cpu_count()"
   ]
  },
  {
   "cell_type": "code",
   "execution_count": 6,
   "id": "ffd96306",
   "metadata": {},
   "outputs": [
    {
     "data": {
      "text/plain": [
       "environ{'USER': 'primarina314',\n",
       "        'VSCODE_WSL_EXT_LOCATION': '/mnt/c/Users/user/.vscode/extensions/ms-vscode-remote.remote-wsl-0.99.0',\n",
       "        'SHLVL': '2',\n",
       "        'HOME': '/home/primarina314',\n",
       "        'DBUS_SESSION_BUS_ADDRESS': 'unix:path=/run/user/1000/bus',\n",
       "        'WSL_DISTRO_NAME': 'Ubuntu-22.04',\n",
       "        'WAYLAND_DISPLAY': 'wayland-0',\n",
       "        'LOGNAME': 'primarina314',\n",
       "        'NAME': 'Code',\n",
       "        'WSL_INTEROP': '/run/WSL/419_interop',\n",
       "        'PULSE_SERVER': 'unix:/mnt/wslg/PulseServer',\n",
       "        '_': '/home/primarina314/anaconda3/envs/mrs3/bin/python',\n",
       "        'TERM': 'xterm-color',\n",
       "        'PATH': '/home/primarina314/anaconda3/envs/mrs3/bin:/home/primarina314/.vscode-server/bin/19e0f9e681ecb8e5c09d8784acaa601316ca4571/bin/remote-cli:/home/primarina314/anaconda3/condabin:/usr/local/cuda-12.2/bin:/usr/local/sbin:/usr/local/bin:/usr/sbin:/usr/bin:/sbin:/bin:/usr/games:/usr/local/games:/usr/lib/wsl/lib:/mnt/c/WINDOWS/system32:/mnt/c/WINDOWS:/mnt/c/WINDOWS/System32/Wbem:/mnt/c/WINDOWS/System32/WindowsPowerShell/v1.0:/mnt/c/WINDOWS/System32/OpenSSH:/mnt/c/Program Files/NVIDIA Corporation/NVIDIA app/NvDLISR:/mnt/c/Program Files (x86)/NVIDIA Corporation/PhysX/Common:/mnt/c/Program Files/Microsoft SQL Server/150/Tools/Binn:/mnt/c/Program Files/Microsoft SQL Server/Client SDK/ODBC/170/Tools/Binn:/mnt/c/Program Files/dotnet:/mnt/c/Program Files (x86)/Windows Kits/10/Windows Performance Toolkit:/mnt/c/Program Files/Git/cmd:/mnt/d/Programs/MATLAB/R2024b/bin:/mnt/c/Users/user/AppData/Local/Microsoft/WindowsApps:/mnt/c/Users/user/.dotnet/tools:/mnt/c/Users/user/AppData/Local/GitHubDesktop/bin:/mnt/c/Users/user/AppData/Local/Programs/Microsoft VS Code/bin:/snap/bin',\n",
       "        'XDG_RUNTIME_DIR': '/run/user/1000/',\n",
       "        'DISPLAY': ':0',\n",
       "        'LANG': 'C.UTF-8',\n",
       "        'SHELL': '/bin/bash',\n",
       "        'PWD': '/mnt/c/Users/user/AppData/Local/Programs/Microsoft VS Code',\n",
       "        'WSL2_GUI_APPS_ENABLED': '1',\n",
       "        'HOSTTYPE': 'x86_64',\n",
       "        'WSLENV': 'ELECTRON_RUN_AS_NODE/w:',\n",
       "        'VSCODE_CWD': '/mnt/c/Users/user/AppData/Local/Programs/Microsoft VS Code',\n",
       "        'VSCODE_NLS_CONFIG': '{\"userLocale\":\"en\",\"osLocale\":\"en\",\"resolvedLanguage\":\"en\",\"defaultMessagesFile\":\"/home/primarina314/.vscode-server/bin/19e0f9e681ecb8e5c09d8784acaa601316ca4571/out/nls.messages.json\",\"locale\":\"en\",\"availableLanguages\":{}}',\n",
       "        'VSCODE_HANDLES_SIGPIPE': 'true',\n",
       "        'CONDA_EXE': '/home/primarina314/anaconda3/bin/conda',\n",
       "        '_CE_M': '',\n",
       "        'LS_COLORS': 'rs=0:di=01;34:ln=01;36:mh=00:pi=40;33:so=01;35:do=01;35:bd=40;33;01:cd=40;33;01:or=40;31;01:mi=00:su=37;41:sg=30;43:ca=30;41:tw=30;42:ow=34;42:st=37;44:ex=01;32:*.tar=01;31:*.tgz=01;31:*.arc=01;31:*.arj=01;31:*.taz=01;31:*.lha=01;31:*.lz4=01;31:*.lzh=01;31:*.lzma=01;31:*.tlz=01;31:*.txz=01;31:*.tzo=01;31:*.t7z=01;31:*.zip=01;31:*.z=01;31:*.dz=01;31:*.gz=01;31:*.lrz=01;31:*.lz=01;31:*.lzo=01;31:*.xz=01;31:*.zst=01;31:*.tzst=01;31:*.bz2=01;31:*.bz=01;31:*.tbz=01;31:*.tbz2=01;31:*.tz=01;31:*.deb=01;31:*.rpm=01;31:*.jar=01;31:*.war=01;31:*.ear=01;31:*.sar=01;31:*.rar=01;31:*.alz=01;31:*.ace=01;31:*.zoo=01;31:*.cpio=01;31:*.7z=01;31:*.rz=01;31:*.cab=01;31:*.wim=01;31:*.swm=01;31:*.dwm=01;31:*.esd=01;31:*.jpg=01;35:*.jpeg=01;35:*.mjpg=01;35:*.mjpeg=01;35:*.gif=01;35:*.bmp=01;35:*.pbm=01;35:*.pgm=01;35:*.ppm=01;35:*.tga=01;35:*.xbm=01;35:*.xpm=01;35:*.tif=01;35:*.tiff=01;35:*.png=01;35:*.svg=01;35:*.svgz=01;35:*.mng=01;35:*.pcx=01;35:*.mov=01;35:*.mpg=01;35:*.mpeg=01;35:*.m2v=01;35:*.mkv=01;35:*.webm=01;35:*.webp=01;35:*.ogm=01;35:*.mp4=01;35:*.m4v=01;35:*.mp4v=01;35:*.vob=01;35:*.qt=01;35:*.nuv=01;35:*.wmv=01;35:*.asf=01;35:*.rm=01;35:*.rmvb=01;35:*.flc=01;35:*.avi=01;35:*.fli=01;35:*.flv=01;35:*.gl=01;35:*.dl=01;35:*.xcf=01;35:*.xwd=01;35:*.yuv=01;35:*.cgm=01;35:*.emf=01;35:*.ogv=01;35:*.ogx=01;35:*.aac=00;36:*.au=00;36:*.flac=00;36:*.m4a=00;36:*.mid=00;36:*.midi=00;36:*.mka=00;36:*.mp3=00;36:*.mpc=00;36:*.ogg=00;36:*.ra=00;36:*.wav=00;36:*.oga=00;36:*.opus=00;36:*.spx=00;36:*.xspf=00;36:',\n",
       "        'LESSCLOSE': '/usr/bin/lesspipe %s %s',\n",
       "        '_CE_CONDA': '',\n",
       "        'LESSOPEN': '| /usr/bin/lesspipe %s',\n",
       "        'CONDA_SHLVL': '1',\n",
       "        'CONDA_PYTHON_EXE': '/home/primarina314/anaconda3/bin/python',\n",
       "        'LD_LIBRARY_PATH': '/home/primarina314/anaconda3/envs/mrs3/lib/python3.11/site-packages/cv2/../../../../lib::/usr/local/cuda-12.2/lib64/',\n",
       "        'XDG_DATA_DIRS': '/usr/local/share:/usr/share:/var/lib/snapd/desktop',\n",
       "        'VSCODE_ESM_ENTRYPOINT': 'vs/workbench/api/node/extensionHostProcess',\n",
       "        'VSCODE_HANDLES_UNCAUGHT_ERRORS': 'true',\n",
       "        'ELECTRON_RUN_AS_NODE': '1',\n",
       "        'VSCODE_IPC_HOOK_CLI': '/run/user/1000/vscode-ipc-b4739c2f-986e-4a90-acc6-85b9f6e4c1c9.sock',\n",
       "        'VSCODE_L10N_BUNDLE_LOCATION': '',\n",
       "        'PYTHONUNBUFFERED': '1',\n",
       "        'GSETTINGS_SCHEMA_DIR': '/home/primarina314/anaconda3/envs/mrs3/share/glib-2.0/schemas',\n",
       "        'CONDA_ROOT': '/home/primarina314/anaconda3',\n",
       "        'CONDA_PREFIX': '/home/primarina314/anaconda3/envs/mrs3',\n",
       "        'GSETTINGS_SCHEMA_DIR_CONDA_BACKUP': '',\n",
       "        'CONDA_PROMPT_MODIFIER': '(mrs3) ',\n",
       "        'PYTHONIOENCODING': 'utf-8',\n",
       "        'CONDA_DEFAULT_ENV': 'mrs3',\n",
       "        'CONDA_ALLOW_SOFTLINKS': 'false',\n",
       "        'PYDEVD_IPYTHON_COMPATIBLE_DEBUGGING': '1',\n",
       "        'PYTHON_FROZEN_MODULES': 'on',\n",
       "        'PYDEVD_USE_FRAME_EVAL': 'NO',\n",
       "        'CLICOLOR': '1',\n",
       "        'FORCE_COLOR': '1',\n",
       "        'CLICOLOR_FORCE': '1',\n",
       "        'PAGER': 'cat',\n",
       "        'GIT_PAGER': 'cat',\n",
       "        'MPLBACKEND': 'module://matplotlib_inline.backend_inline',\n",
       "        'TF2_BEHAVIOR': '1',\n",
       "        'TPU_ML_PLATFORM': 'Tensorflow'}"
      ]
     },
     "execution_count": 6,
     "metadata": {},
     "output_type": "execute_result"
    }
   ],
   "source": [
    "os.environ"
   ]
  },
  {
   "cell_type": "code",
   "execution_count": null,
   "id": "7cc2f8b4",
   "metadata": {},
   "outputs": [],
   "source": []
  }
 ],
 "metadata": {
  "kernelspec": {
   "display_name": "mrs3exp",
   "language": "python",
   "name": "python3"
  },
  "language_info": {
   "codemirror_mode": {
    "name": "ipython",
    "version": 3
   },
   "file_extension": ".py",
   "mimetype": "text/x-python",
   "name": "python",
   "nbconvert_exporter": "python",
   "pygments_lexer": "ipython3",
   "version": "3.11.11"
  }
 },
 "nbformat": 4,
 "nbformat_minor": 5
}
